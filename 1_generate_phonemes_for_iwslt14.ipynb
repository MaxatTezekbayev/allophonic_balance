{
 "cells": [
  {
   "cell_type": "markdown",
   "id": "a9375c6c-0b72-4320-bec1-2b72e08829dc",
   "metadata": {},
   "source": [
    "### Generate Phonemes for IWSLT"
   ]
  },
  {
   "cell_type": "code",
   "execution_count": null,
   "id": "806bc4f7-ede9-4c62-a6ce-6399c43f8e73",
   "metadata": {
    "tags": []
   },
   "outputs": [],
   "source": [
    "from transformers import T5ForConditionalGeneration, AutoTokenizer\n",
    "import pickle\n",
    "from tqdm import tqdm\n",
    "import numpy as np\n",
    "model = T5ForConditionalGeneration.from_pretrained('charsiu/g2p_multilingual_byT5_small_100')\n",
    "model.cuda()\n",
    "tokenizer = AutoTokenizer.from_pretrained('google/byt5-small')\n",
    "\n",
    "def to_phoneme(sentence):\n",
    "    # tokenized English words\n",
    "    words = sentence.split()\n",
    "    words = ['<eng-us>: '+i for i in words]\n",
    "\n",
    "    out = tokenizer(words,padding=True,add_special_tokens=False,return_tensors='pt')\n",
    "    out = {k:v.cuda() for k,v in out.items()}\n",
    "    preds = model.generate(**out,num_beams=1,max_length=len(words)+20) # We do not find beam search helpful. Greedy decoding is enough. \n",
    "    phones = tokenizer.batch_decode(preds.tolist(),skip_special_tokens=True)\n",
    "    ph_hat = \" \".join(phones).replace(\"ɫ\",\"l\").replace(\"ɝ\", \"ɜr\")\\\n",
    "                         .replace(\"tʃ\",\"ʧ\").replace(\"dʒ\",\"ʤ\")\\\n",
    "                         .replace(\"ɹ\",'r').replace(\"ɡ\",\"g\")\n",
    "    return ph_hat"
   ]
  },
  {
   "cell_type": "code",
   "execution_count": null,
   "id": "a62ac0f5-3678-4fc8-bf40-786ef2025ada",
   "metadata": {
    "tags": []
   },
   "outputs": [],
   "source": [
    "#iwslt train english text from https://github.com/facebookresearch/fairseq/blob/main/examples/translation/prepare-iwslt14.sh\n",
    "with open('iwslt14.tokenized.de-en/train.en','r', encoding='utf-8') as f:\n",
    "    text = f.read()\n",
    "    \n",
    "stop_symbols = ['?',',','.','!','\"', '”','“',\"-\",'\"',\":\"]\n",
    "for symb in stop_symbols:\n",
    "    text = text.replace(symb, '')\n",
    "text = text.split(\"\\n\")\n",
    "res_phonemes = \"\"\n",
    "batch_size = 5\n",
    "CHUNKS = int(np.ceil(len(text)/batch_size))\n",
    "for i in tqdm(range(CHUNKS)):\n",
    "    batch = \" \".join(text[i*batch_size: (i+1)*batch_size])\n",
    "    res_phonemes += to_phoneme(batch) + \" \" "
   ]
  },
  {
   "cell_type": "code",
   "execution_count": null,
   "id": "2e7c78b1-064c-4d25-9907-d8c0939cdb08",
   "metadata": {
    "tags": []
   },
   "outputs": [],
   "source": [
    "#save iwslt phonemes to pickle\n",
    "with open(\"iwslt_phonemes.pkl\",'wb') as f:\n",
    "    pickle.dump(res_phonemes, f)"
   ]
  }
 ],
 "metadata": {
  "kernelspec": {
   "display_name": "KNNLM",
   "language": "python",
   "name": "knnlm"
  },
  "language_info": {
   "codemirror_mode": {
    "name": "ipython",
    "version": 3
   },
   "file_extension": ".py",
   "mimetype": "text/x-python",
   "name": "python",
   "nbconvert_exporter": "python",
   "pygments_lexer": "ipython3",
   "version": "3.10.9"
  }
 },
 "nbformat": 4,
 "nbformat_minor": 5
}
